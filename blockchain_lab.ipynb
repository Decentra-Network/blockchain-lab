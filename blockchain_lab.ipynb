{
  "cells": [
    {
      "cell_type": "code",
      "execution_count": null,
      "metadata": {
        "id": "bB2Zb2bAxXls"
      },
      "outputs": [],
      "source": [
        "#@title Installation { vertical-output: true, display-mode: \"form\" }\n",
        "!pip3 install blockchain-lab\n",
        "\n",
        "from blockchain_lab import blockchain_lab\n",
        "\n",
        "lab = blockchain_lab()"
      ]
    },
    {
      "cell_type": "code",
      "execution_count": null,
      "metadata": {
        "id": "2OPRdCnO5frX"
      },
      "outputs": [],
      "source": [
        "#@title Create Blockchain Lab { vertical-output: true, display-mode: \"form\" }\n",
        "node_number = 3 #@param {type:\"slider\", min:3}\n",
        "security_circle_number = 1 #@param {type:\"slider\", min:1}\n",
        "\n",
        "lab.node_number = node_number\n",
        "lab.security_circle_number = security_circle_number\n",
        "\n",
        "lab.create_local()"
      ]
    },
    {
      "cell_type": "code",
      "execution_count": null,
      "metadata": {
        "id": "iQ_tLfKj6JK6"
      },
      "outputs": [],
      "source": [
        "#@title Check Lab Status { vertical-output: true, display-mode: \"form\" }\n",
        "lab.status()"
      ]
    },
    {
      "cell_type": "code",
      "execution_count": null,
      "metadata": {
        "cellView": "form",
        "id": "QF2DMFDY62tD"
      },
      "outputs": [],
      "source": [
        "#@title Send A Transaction { vertical-output: true }\n",
        "receiver = \"Decentra-Network\" #@param {type:\"string\"}\n",
        "amount = 5000 #@param {type:\"number\"}\n",
        "data = \"blockchain-lab\" #@param {type:\"string\"}\n",
        "lab.send_transaction(receiver = receiver, amount = amount, data = data)"
      ]
    },
    {
      "cell_type": "code",
      "execution_count": null,
      "metadata": {
        "id": "RpMPYRm769Kq"
      },
      "outputs": [],
      "source": [
        "#@title Delete Lab { vertical-output: true, display-mode: \"form\" }\n",
        "lab.delete_local()"
      ]
    }
  ],
  "metadata": {
    "colab": {
      "name": "blockchain_lab.ipynb",
      "provenance": []
    },
    "kernelspec": {
      "display_name": "Python 3",
      "name": "python3"
    },
    "language_info": {
      "name": "python"
    }
  },
  "nbformat": 4,
  "nbformat_minor": 0
}
